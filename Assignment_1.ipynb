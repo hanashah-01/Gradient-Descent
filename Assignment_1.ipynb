{
 "cells": [
  {
   "cell_type": "markdown",
   "metadata": {},
   "source": [
    "# Assignment 1"
   ]
  },
  {
   "cell_type": "markdown",
   "metadata": {},
   "source": [
    "# Group Members\n",
    "\n",
    "1.   Hana Shah Binti Faizal Shah \n",
    "2.   Jazreel Ooi Sue Ching\n",
    "3.   Logen Naidu A/L\n",
    "4.   Siti Adibah Binti Zaini"
   ]
  },
  {
   "cell_type": "code",
   "execution_count": 36,
   "metadata": {},
   "outputs": [],
   "source": [
    "# Import the libraries needed\n",
    "import pandas as pd\n",
    "import numpy as np"
   ]
  },
  {
   "cell_type": "markdown",
   "metadata": {},
   "source": [
    "# Read Data From The File"
   ]
  },
  {
   "cell_type": "code",
   "execution_count": 37,
   "metadata": {
    "id": "C-nbRTZKLaOD"
   },
   "outputs": [
    {
     "data": {
      "text/plain": [
       "(1000, 6)"
      ]
     },
     "execution_count": 37,
     "metadata": {},
     "output_type": "execute_result"
    }
   ],
   "source": [
    "# Read the file\n",
    "data = pd.read_csv('C:/Users/Hana/Documents/USM/YEAR 2/SEM 2/CPC251/assignment1_dataset.csv')\n",
    "\n",
    "# Check the shape of the data\n",
    "data.shape"
   ]
  },
  {
   "cell_type": "code",
   "execution_count": 38,
   "metadata": {
    "id": "Tj5OcyVnubXl"
   },
   "outputs": [
    {
     "data": {
      "text/plain": [
       "f1          0\n",
       "f2          0\n",
       "f3          0\n",
       "f4          0\n",
       "f5          0\n",
       "response    0\n",
       "dtype: int64"
      ]
     },
     "execution_count": 38,
     "metadata": {},
     "output_type": "execute_result"
    }
   ],
   "source": [
    "# Check the missing values in the data\n",
    "data.isnull().sum()"
   ]
  },
  {
   "cell_type": "markdown",
   "metadata": {},
   "source": [
    "# Separate Data Set"
   ]
  },
  {
   "cell_type": "code",
   "execution_count": 39,
   "metadata": {
    "id": "vJD-Q9k4Lhrr"
   },
   "outputs": [],
   "source": [
    "# X represents the independent variables while y represents the dependent variable\n",
    "# Separate the X and y variables\n",
    "X = data.drop(\"response\",axis = 1)\n",
    "y = data[\"response\"]"
   ]
  },
  {
   "cell_type": "code",
   "execution_count": 40,
   "metadata": {
    "id": "2nWBxC9mLo1s"
   },
   "outputs": [],
   "source": [
    "# Import train_test_split function\n",
    "from sklearn.model_selection import train_test_split"
   ]
  },
  {
   "cell_type": "code",
   "execution_count": 41,
   "metadata": {
    "id": "aD4182oxLthZ"
   },
   "outputs": [],
   "source": [
    "# Test set data size to be 20% and training set data size to be 80%\n",
    "X_train, X_test, y_train, y_test = train_test_split(X, y, test_size = 0.2,random_state = 0)"
   ]
  },
  {
   "cell_type": "code",
   "execution_count": 42,
   "metadata": {},
   "outputs": [
    {
     "name": "stdout",
     "output_type": "stream",
     "text": [
      "shape of original dataset ---- (1000, 6)\n",
      "shape of input training set -- (800, 5)\n",
      "shape of output training set - (800,)\n",
      "shape of input testing set  -- (200, 5)\n",
      "shape of output testing set  - (200,)\n"
     ]
    }
   ],
   "source": [
    "print(\"shape of original dataset ----\", data.shape)\n",
    "print(\"shape of input training set --\", X_train.shape)\n",
    "print(\"shape of output training set -\", y_train.shape)\n",
    "print(\"shape of input testing set  --\", X_test.shape)\n",
    "print(\"shape of output testing set  -\", y_test.shape)"
   ]
  },
  {
   "cell_type": "markdown",
   "metadata": {},
   "source": [
    "# Multivariate Linear Regression Using Gradient Descent"
   ]
  },
  {
   "cell_type": "code",
   "execution_count": 72,
   "metadata": {},
   "outputs": [],
   "source": [
    "# Train model function\n",
    "def train_model(X, y, alpha, max_epoch):\n",
    "    \n",
    "    # Number of samples\n",
    "    m = X.shape[0] \n",
    "    # Return a new array filled with ones\n",
    "    ones = np.ones((m,1)) \n",
    "    # Joining 2 arrays along axis = 1\n",
    "    # A column which is X0 = 1 is added into X\n",
    "    X = np.concatenate((ones, X), axis = 1)  \n",
    "    # The number of features will be 6\n",
    "    n = X.shape[1] \n",
    "    # n = 6 Parameter initialization\n",
    "    w = np.ones(n)\n",
    "    \n",
    "    h = prediction(X, w) \n",
    "    \n",
    "    # Gradient descent algorithm\n",
    "    hist_loss = np.ones(max_epoch) \n",
    "    for i in range(0,max_epoch):\n",
    "        w[0] = w[0] - (alpha/X.shape[0]) * sum(h-y)\n",
    "        for j in range(1, n):\n",
    "            w[j] = w[j] - (alpha/X.shape[0]) * sum((h-y) * X[:,j])\n",
    "        #Making new hypothesis   \n",
    "        h = prediction(X,w)\n",
    "        # Compute cost function\n",
    "        hist_loss[i] = loss_fn(m, h ,y)\n",
    "        # Display the training loss value for each epoch of the training loop\n",
    "        print(\"Iteration \" + str(i + 1) + \": \" + str(hist_loss[i]))\n",
    "    return hist_loss, w\n",
    "\n",
    "# Prediction function \n",
    "def prediction(X, w):\n",
    "    yhat = np.dot(X,w)\n",
    "    return yhat\n",
    "\n",
    "# Loss function\n",
    "def loss_fn(m, y, yhat):\n",
    "    loss = 1/(2*m) * sum(np.square(y-yhat))\n",
    "    return loss"
   ]
  },
  {
   "cell_type": "code",
   "execution_count": 75,
   "metadata": {},
   "outputs": [
    {
     "name": "stdout",
     "output_type": "stream",
     "text": [
      "Iteration 1: 650.3259767831349\n",
      "Iteration 2: 520.4036996096411\n",
      "Iteration 3: 417.0975505122997\n",
      "Iteration 4: 334.92791811957875\n",
      "Iteration 5: 269.5487847277737\n",
      "Iteration 6: 217.51210293515976\n",
      "Iteration 7: 176.0813733508447\n",
      "Iteration 8: 143.08410384641772\n",
      "Iteration 9: 116.79500452570244\n",
      "Iteration 10: 95.84348654938269\n",
      "Iteration 11: 79.14038478383999\n",
      "Iteration 12: 65.81989076065999\n",
      "Iteration 13: 55.193524094048016\n",
      "Iteration 14: 46.71363490677091\n",
      "Iteration 15: 39.94445444537211\n",
      "Iteration 16: 34.53912544880179\n",
      "Iteration 17: 30.221471235804987\n",
      "Iteration 18: 26.771521230951603\n",
      "Iteration 19: 24.01401521189239\n",
      "Iteration 20: 21.80927032991264\n",
      "Iteration 21: 20.04592292323384\n",
      "Iteration 22: 18.635158401906914\n",
      "Iteration 23: 17.50612263349866\n",
      "Iteration 24: 16.60227172028757\n",
      "Iteration 25: 15.878467321975805\n",
      "Iteration 26: 15.29866450032519\n",
      "Iteration 27: 14.834070622395526\n",
      "Iteration 28: 14.461678879277022\n",
      "Iteration 29: 14.163099818917866\n",
      "Iteration 30: 13.923630031658035\n",
      "Iteration 31: 13.731509617281356\n",
      "Iteration 32: 13.577329976932504\n",
      "Iteration 33: 13.453561345777219\n",
      "Iteration 34: 13.354175735381522\n",
      "Iteration 35: 13.274345923174979\n",
      "Iteration 36: 13.210205075254095\n",
      "Iteration 37: 13.158654728379313\n",
      "Iteration 38: 13.117211353985036\n",
      "Iteration 39: 13.083883713528005\n",
      "Iteration 40: 13.057074795409267\n",
      "Iteration 41: 13.035503382233612\n",
      "Iteration 42: 13.018141299378069\n",
      "Iteration 43: 13.004163194188223\n",
      "Iteration 44: 12.992906331277831\n",
      "Iteration 45: 12.983838396483248\n",
      "Iteration 46: 12.976531706342719\n",
      "Iteration 47: 12.970642542453355\n",
      "Iteration 48: 12.965894587353535\n",
      "Iteration 49: 12.962065643926094\n",
      "Iteration 50: 12.958976984258268\n",
      "Iteration 51: 12.956484804816256\n",
      "Iteration 52: 12.954473369382699\n",
      "Iteration 53: 12.95284950477952\n",
      "Iteration 54: 12.951538181207173\n",
      "Iteration 55: 12.950478962448155\n",
      "Iteration 56: 12.949623153909034\n",
      "Iteration 57: 12.948931510659037\n",
      "Iteration 58: 12.948372394982155\n",
      "Iteration 59: 12.947920294860772\n",
      "Iteration 60: 12.947554632349638\n",
      "Iteration 61: 12.947258804847605\n",
      "Iteration 62: 12.947019413533415\n",
      "Iteration 63: 12.94682564225438\n",
      "Iteration 64: 12.946668757392336\n",
      "Iteration 65: 12.94654170503262\n",
      "Iteration 66: 12.946438786416882\n",
      "Iteration 67: 12.946355396395006\n",
      "Iteration 68: 12.9462878125909\n",
      "Iteration 69: 12.946233025402123\n",
      "Iteration 70: 12.946188600888815\n",
      "Iteration 71: 12.946152570159102\n",
      "Iteration 72: 12.946123340106901\n",
      "Iteration 73: 12.946099621361698\n",
      "Iteration 74: 12.946080370115775\n",
      "Iteration 75: 12.9460647411438\n",
      "Iteration 76: 12.946052049851767\n",
      "Iteration 77: 12.946041741611499\n",
      "Iteration 78: 12.946033366976241\n",
      "Iteration 79: 12.946026561643869\n",
      "Iteration 80: 12.946021030254263\n",
      "Iteration 81: 12.946016533284109\n",
      "Iteration 82: 12.94601287644388\n",
      "Iteration 83: 12.946009902097337\n",
      "Iteration 84: 12.946007482316173\n",
      "Iteration 85: 12.946005513256326\n",
      "Iteration 86: 12.946003910603766\n",
      "Iteration 87: 12.946002605885214\n",
      "Iteration 88: 12.94600154347912\n",
      "Iteration 89: 12.9460006781927\n",
      "Iteration 90: 12.94599997329822\n",
      "Iteration 91: 12.945999398940415\n",
      "Iteration 92: 12.94599893084496\n",
      "Iteration 93: 12.94599854927074\n",
      "Iteration 94: 12.945998238159534\n",
      "Iteration 95: 12.945997984446093\n",
      "Iteration 96: 12.945997777497817\n",
      "Iteration 97: 12.945997608659987\n",
      "Iteration 98: 12.945997470886132\n",
      "Iteration 99: 12.945997358438138\n",
      "Iteration 100: 12.945997266642078\n",
      "\n",
      "\n",
      "Estimated Weights\n",
      "w0 : 9.803168858531667\n",
      "w1 : 11.775455171714512\n",
      "w2 : -0.004603874479404539\n",
      "w3 : 0.07498757821726275\n",
      "w4 : 37.0080940042395\n",
      "w5 : 0.17178319354286628\n"
     ]
    }
   ],
   "source": [
    "# Calculating w and cost\n",
    "hist_loss, w = train_model(X_train, y_train, 0.1, 100)\n",
    "\n",
    "# Display the estimated weights\n",
    "print(\"\\n\")\n",
    "print(\"Estimated Weights\")\n",
    "for i in range(w.size):\n",
    "    print(\"w\" + str(i) + \" : \" + str(w[i]))"
   ]
  },
  {
   "cell_type": "markdown",
   "metadata": {},
   "source": [
    "# Training Loss Against Epoch Graph "
   ]
  },
  {
   "cell_type": "code",
   "execution_count": 76,
   "metadata": {},
   "outputs": [
    {
     "data": {
      "image/png": "[encoded data removed]",
      "text/plain": [
       "<Figure size 432x288 with 1 Axes>"
      ]
     },
     "metadata": {
      "needs_background": "light"
     },
     "output_type": "display_data"
    },
    {
     "name": "stdout",
     "output_type": "stream",
     "text": [
      "Lowest cost = 12.945997266642078\n",
      "Cost after 100 iterations = 12.945997266642078\n"
     ]
    }
   ],
   "source": [
    "import matplotlib.pyplot as plt\n",
    "\n",
    "# Plot the graph\n",
    "plt.plot(hist_loss)\n",
    "\n",
    "# Label x-axis as Epoch\n",
    "plt.xlabel(\"Epoch\")\n",
    "\n",
    "# Label y-axis as training loss\n",
    "plt.ylabel(\"Training Loss\")\n",
    "\n",
    "# Display the plotted graph\n",
    "plt.show()\n",
    "\n",
    "print(\"Lowest cost = \" + str(np.min(hist_loss)))\n",
    "print(\"Cost after \" + str(100) + \" iterations = \" + str(hist_loss[-1]))"
   ]
  },
  {
   "cell_type": "markdown",
   "metadata": {},
   "source": [
    "# Test the Model"
   ]
  },
  {
   "cell_type": "code",
   "execution_count": 77,
   "metadata": {},
   "outputs": [],
   "source": [
    "# Add the column x0 = 1 for all rows\n",
    "X_test = np.concatenate((np.ones((X_test.shape[0], 1)), X_test), axis=1)"
   ]
  },
  {
   "cell_type": "code",
   "execution_count": 78,
   "metadata": {},
   "outputs": [],
   "source": [
    "# Find the value of yhat\n",
    "yhat = prediction(X_test,w)"
   ]
  },
  {
   "cell_type": "code",
   "execution_count": 79,
   "metadata": {},
   "outputs": [
    {
     "data": {
      "text/plain": [
       "993   -17.851877\n",
       "859    10.229663\n",
       "298   -61.747687\n",
       "553    -1.411468\n",
       "672    21.835000\n",
       "Name: response, dtype: float64"
      ]
     },
     "execution_count": 79,
     "metadata": {},
     "output_type": "execute_result"
    }
   ],
   "source": [
    "# Display the first 5 values of y_test\n",
    "y_test[0:5]"
   ]
  },
  {
   "cell_type": "code",
   "execution_count": 80,
   "metadata": {},
   "outputs": [
    {
     "data": {
      "text/plain": [
       "array([-12.09134413,  23.25643461, -63.98146682,  -5.55453906,\n",
       "        22.54576754])"
      ]
     },
     "execution_count": 80,
     "metadata": {},
     "output_type": "execute_result"
    }
   ],
   "source": [
    "# Display the first 5 values of yhat\n",
    "yhat[0:5]"
   ]
  },
  {
   "cell_type": "code",
   "execution_count": 81,
   "metadata": {},
   "outputs": [
    {
     "data": {
      "image/png": "[encoded data removed]",
      "text/plain": [
       "<Figure size 432x288 with 1 Axes>"
      ]
     },
     "metadata": {
      "needs_background": "light"
     },
     "output_type": "display_data"
    }
   ],
   "source": [
    "# Display Y predicted against Y test\n",
    "    \n",
    "plt.scatter(yhat, y_test)\n",
    "\n",
    "plt.xlabel(\"Prediction\")\n",
    "plt.ylabel( \"Actual\")\n",
    "\n",
    "# Linear plot\n",
    "x = np.linspace(-75, 120, 100)\n",
    "y = x\n",
    "plt.plot(x, y, 'r', linewidth=4)\n",
    "plt.show()"
   ]
  },
  {
   "cell_type": "markdown",
   "metadata": {},
   "source": [
    "# Least R-squared and Mean Squared Error"
   ]
  },
  {
   "cell_type": "code",
   "execution_count": 82,
   "metadata": {},
   "outputs": [
    {
     "name": "stdout",
     "output_type": "stream",
     "text": [
      "3.809296123029086\n",
      "21.73067105696941\n",
      "0.9860500729472225\n"
     ]
    }
   ],
   "source": [
    "# Evaluate the linear regression model\n",
    "from sklearn.metrics import mean_absolute_error, mean_squared_error, r2_score\n",
    "\n",
    "print(mean_absolute_error(y_test, yhat))\n",
    "print(mean_squared_error(y_test, yhat))\n",
    "print(r2_score(y_test, yhat))"
   ]
  }
 ],
 "metadata": {
  "colab": {
   "collapsed_sections": [],
   "name": "Assignment 1.ipynb",
   "provenance": []
  },
  "kernelspec": {
   "display_name": "Python 3 (ipykernel)",
   "language": "python",
   "name": "python3"
  },
  "language_info": {
   "codemirror_mode": {
    "name": "ipython",
    "version": 3
   },
   "file_extension": ".py",
   "mimetype": "text/x-python",
   "name": "python",
   "nbconvert_exporter": "python",
   "pygments_lexer": "ipython3",
   "version": "3.9.7"
  }
 },
 "nbformat": 4,
 "nbformat_minor": 1
}
